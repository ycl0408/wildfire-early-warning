{
 "cells": [
  {
   "cell_type": "markdown",
   "id": "3f5bf9ec",
   "metadata": {},
   "source": [
    "# 01 — Build anomalies & labels"
   ]
  },
  {
   "cell_type": "code",
   "execution_count": null,
   "id": "41fa6305",
   "metadata": {},
   "outputs": [],
   "source": [
    "# This notebook demonstrates the core steps on a small AOI tile.\n",
    "# 1) Load config\n",
    "# 2) Load NDVI/EVI time series (sample)\n",
    "# 3) Build climatology by DOY bin\n",
    "# 4) Compute z-score anomalies\n",
    "# 5) Add lags\n",
    "# 6) Join with FIRMS events to create labels for 2/4/6 weeks"
   ]
  }
 ],
 "metadata": {},
 "nbformat": 4,
 "nbformat_minor": 5
}
